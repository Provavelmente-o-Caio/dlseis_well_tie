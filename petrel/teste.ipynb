{
 "cells": [
  {
   "cell_type": "code",
   "execution_count": 5,
   "metadata": {},
   "outputs": [],
   "source": [
    "import numpy as np\n",
    "import pandas as pd\n",
    "import segyio\n",
    "import lasio\n",
    "\n",
    "from pathlib import Path\n",
    "from pprint import pprint\n",
    "\n",
    "from wtie import grid, viz\n",
    "from wtie.processing.logs import interpolate_nans, despike\n",
    "\n",
    "import matplotlib.pyplot as plt"
   ]
  },
  {
   "cell_type": "code",
   "execution_count": 6,
   "metadata": {},
   "outputs": [],
   "source": [
    "# data path\n",
    "folder = Path('../../')\n",
    "seis_path_3d_path = Path(\"d:\\Caio\\F3_Demo_2020\\F3_Demo_2020\\Rawdata\\Seismic_data.sgy\")\n",
    "seis_path_2d_path = Path(\"data/tutorial/Poseidon/boreas1/Boreas1_seismic_alongwell_0_0.sgy\")\n",
    "\n",
    "with segyio.open(seis_path_3d_path, 'r') as f:\n",
    "    _twt = f.samples / 1000\n",
    "    _seis = np.squeeze()"
   ]
  },
  {
   "cell_type": "code",
   "execution_count": null,
   "metadata": {},
   "outputs": [],
   "source": [
    "las_log_3d_path = Path(\"d:\\Caio\\F3_Demo_2020\\F3_Demo_2020\\Rawdata\\Well_data\\F02-01_logs.las\")\n",
    "las_log_2d_path = Path(\"data/tutorial/Poseidon/boreas1/Boreas1Decim.las\")\n",
    "\n",
    "las_log_3d = lasio.read(las_log_3d_path)\n",
    "las_log_3d = las_log_3d.df()\n",
    "\n",
    "las_log_2d = lasio.read(las_log_2d_path)\n",
    "las_log_2d = las_log_2d.df()"
   ]
  }
 ],
 "metadata": {
  "kernelspec": {
   "display_name": "wtie",
   "language": "python",
   "name": "python3"
  },
  "language_info": {
   "codemirror_mode": {
    "name": "ipython",
    "version": 3
   },
   "file_extension": ".py",
   "mimetype": "text/x-python",
   "name": "python",
   "nbconvert_exporter": "python",
   "pygments_lexer": "ipython3",
   "version": "3.7.9"
  }
 },
 "nbformat": 4,
 "nbformat_minor": 2
}
